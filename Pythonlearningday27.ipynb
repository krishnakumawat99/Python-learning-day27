{
  "nbformat": 4,
  "nbformat_minor": 0,
  "metadata": {
    "colab": {
      "provenance": []
    },
    "kernelspec": {
      "name": "python3",
      "display_name": "Python 3"
    },
    "language_info": {
      "name": "python"
    }
  },
  "cells": [
    {
      "cell_type": "code",
      "execution_count": null,
      "metadata": {
        "id": "cKkoJ9I2EuXt"
      },
      "outputs": [],
      "source": [
        "# revision\n",
        "# function\n",
        "# block of code\n",
        "# we write a logic once => again\n",
        "# code reuse\n",
        "def fun():\n",
        "  print(\"hello\")\n",
        "  print(\"good afternoon\")"
      ]
    },
    {
      "cell_type": "code",
      "source": [
        "fun()"
      ],
      "metadata": {
        "colab": {
          "base_uri": "https://localhost:8080/"
        },
        "id": "SUAoAea5LW3g",
        "outputId": "c5549931-3882-4d2d-f818-1786ffb11b86"
      },
      "execution_count": null,
      "outputs": [
        {
          "output_type": "stream",
          "name": "stdout",
          "text": [
            "hello\n",
            "good afternoon\n"
          ]
        }
      ]
    },
    {
      "cell_type": "code",
      "source": [
        "def add(a,b):   #parameter => input is form the program\n",
        "  print(\"total\",a+b)"
      ],
      "metadata": {
        "id": "hgw_0JtXLXrp"
      },
      "execution_count": null,
      "outputs": []
    },
    {
      "cell_type": "code",
      "source": [
        "add(10,30)  # function call=> value=>argument"
      ],
      "metadata": {
        "colab": {
          "base_uri": "https://localhost:8080/"
        },
        "id": "iQqyaXmmLgwb",
        "outputId": "80247912-0a4c-44bb-c745-5935ab27a363"
      },
      "execution_count": null,
      "outputs": [
        {
          "output_type": "stream",
          "name": "stdout",
          "text": [
            "total 40\n"
          ]
        }
      ]
    },
    {
      "cell_type": "code",
      "source": [
        "add(50,30)"
      ],
      "metadata": {
        "colab": {
          "base_uri": "https://localhost:8080/"
        },
        "id": "mxEyLdVsLhlZ",
        "outputId": "43bf664a-9b0c-4cdb-b8da-d34bf966f3bd"
      },
      "execution_count": null,
      "outputs": [
        {
          "output_type": "stream",
          "name": "stdout",
          "text": [
            "total 80\n"
          ]
        }
      ]
    },
    {
      "cell_type": "code",
      "source": [
        "def add(a,b):\n",
        "  print(\"A:\",a,\"B:\",b)"
      ],
      "metadata": {
        "id": "lIvHohnKMeYH"
      },
      "execution_count": null,
      "outputs": []
    },
    {
      "cell_type": "code",
      "source": [
        "add(23,56)\n",
        "add(56,23)"
      ],
      "metadata": {
        "colab": {
          "base_uri": "https://localhost:8080/"
        },
        "id": "j3SUx3NIMurN",
        "outputId": "535fd9ac-f1bf-4f84-ff9b-0e45e2675823"
      },
      "execution_count": null,
      "outputs": [
        {
          "output_type": "stream",
          "name": "stdout",
          "text": [
            "A: 23 B: 56\n",
            "A: 56 B: 23\n"
          ]
        }
      ]
    },
    {
      "cell_type": "code",
      "source": [
        "add(b=20,a=10) #keyword"
      ],
      "metadata": {
        "colab": {
          "base_uri": "https://localhost:8080/"
        },
        "id": "isKAtl-zMymV",
        "outputId": "0c063471-f550-4a6c-a83b-f7784b74681c"
      },
      "execution_count": null,
      "outputs": [
        {
          "output_type": "stream",
          "name": "stdout",
          "text": [
            "A: 10 B: 20\n"
          ]
        }
      ]
    },
    {
      "cell_type": "code",
      "source": [
        "def add(a,b=0):        # default argument= at the end\n",
        "  print(\"A:\",a,\"B:\",b)\n"
      ],
      "metadata": {
        "id": "CKjXXS6iNLr-"
      },
      "execution_count": null,
      "outputs": []
    },
    {
      "cell_type": "code",
      "source": [
        "add(10)"
      ],
      "metadata": {
        "colab": {
          "base_uri": "https://localhost:8080/"
        },
        "id": "KpVF4pxANVJO",
        "outputId": "dd2d2d97-db2f-4eff-e8c8-3651803c121e"
      },
      "execution_count": null,
      "outputs": [
        {
          "output_type": "stream",
          "name": "stdout",
          "text": [
            "A: 10 B: 0\n"
          ]
        }
      ]
    },
    {
      "cell_type": "code",
      "source": [
        "add(20,30)"
      ],
      "metadata": {
        "colab": {
          "base_uri": "https://localhost:8080/"
        },
        "id": "m6yn0mkFNWLb",
        "outputId": "c4fccf2b-4b1b-4f51-fef2-26844283524d"
      },
      "execution_count": null,
      "outputs": [
        {
          "output_type": "stream",
          "name": "stdout",
          "text": [
            "A: 20 B: 30\n"
          ]
        }
      ]
    },
    {
      "cell_type": "code",
      "source": [
        "def add(b,a=30):        # default argument= at the end\n",
        "  print(\"A:\",a,\"B:\",b)"
      ],
      "metadata": {
        "id": "0TzCXUDINnmf"
      },
      "execution_count": null,
      "outputs": []
    },
    {
      "cell_type": "code",
      "source": [
        "add(20)"
      ],
      "metadata": {
        "colab": {
          "base_uri": "https://localhost:8080/"
        },
        "id": "jxexVrSTN7Wi",
        "outputId": "eae2ccf3-d4ed-42cd-e55b-151929eab387"
      },
      "execution_count": null,
      "outputs": [
        {
          "output_type": "stream",
          "name": "stdout",
          "text": [
            "A: 30 B: 20\n"
          ]
        }
      ]
    },
    {
      "cell_type": "code",
      "source": [
        "# keyword variable ( **kwargs) and ( *args)\n",
        "def add(*abc):\n",
        "  print(abc)"
      ],
      "metadata": {
        "id": "k5m4XligN8uc"
      },
      "execution_count": null,
      "outputs": []
    },
    {
      "cell_type": "code",
      "source": [
        "add()\n",
        "add(10,20,30)"
      ],
      "metadata": {
        "colab": {
          "base_uri": "https://localhost:8080/"
        },
        "id": "mdwbEFCqOP6-",
        "outputId": "98cb055c-50d6-4b3a-c2ea-a96ac3fd3d57"
      },
      "execution_count": null,
      "outputs": [
        {
          "output_type": "stream",
          "name": "stdout",
          "text": [
            "()\n",
            "(10, 20, 30)\n"
          ]
        }
      ]
    },
    {
      "cell_type": "code",
      "source": [
        "# keyword variable lenght argument\n",
        "def add(**abc):\n",
        "  print(abc)"
      ],
      "metadata": {
        "id": "fC3cTvztORGF"
      },
      "execution_count": null,
      "outputs": []
    },
    {
      "cell_type": "code",
      "source": [
        "add()\n",
        "add(age=21)\n",
        "add(salary=10000)"
      ],
      "metadata": {
        "colab": {
          "base_uri": "https://localhost:8080/"
        },
        "id": "5jKpKHo5OvCe",
        "outputId": "2f0b5eb0-7295-4f96-b76a-9042a4f55b8b"
      },
      "execution_count": null,
      "outputs": [
        {
          "output_type": "stream",
          "name": "stdout",
          "text": [
            "{}\n",
            "{'age': 21}\n",
            "{'salary': 10000}\n"
          ]
        }
      ]
    },
    {
      "cell_type": "code",
      "source": [
        "num=7\n",
        "for i in range(1,num+1):\n",
        "  for j in range(1,i+1):\n",
        "    print(\"*\",end=\" \")\n",
        "  print(\"\")"
      ],
      "metadata": {
        "colab": {
          "base_uri": "https://localhost:8080/"
        },
        "id": "5rRuKwMcOwzN",
        "outputId": "f0abb620-4c78-44c3-f1f1-d8fc0d4a3364"
      },
      "execution_count": null,
      "outputs": [
        {
          "output_type": "stream",
          "name": "stdout",
          "text": [
            "* \n",
            "* * \n",
            "* * * \n",
            "* * * * \n",
            "* * * * * \n",
            "* * * * * * \n",
            "* * * * * * * \n"
          ]
        }
      ]
    },
    {
      "cell_type": "code",
      "source": [
        "def printPattern(num):\n",
        "  for i in range(1,num+1):\n",
        "    for j in range(1,i+1):\n",
        "      print(\"*\",end=\" \")\n",
        "    print(\"\")"
      ],
      "metadata": {
        "id": "i-T80Hf9PUZy"
      },
      "execution_count": null,
      "outputs": []
    },
    {
      "cell_type": "code",
      "source": [
        "printPattern(7)"
      ],
      "metadata": {
        "colab": {
          "base_uri": "https://localhost:8080/"
        },
        "id": "FYona0fbPgYd",
        "outputId": "19303fef-b3a6-4703-c421-c965fc62b81a"
      },
      "execution_count": null,
      "outputs": [
        {
          "output_type": "stream",
          "name": "stdout",
          "text": [
            "* \n",
            "* * \n",
            "* * * \n",
            "* * * * \n",
            "* * * * * \n",
            "* * * * * * \n",
            "* * * * * * * \n"
          ]
        }
      ]
    },
    {
      "cell_type": "code",
      "source": [
        "def addNo(a,b):\n",
        "  print(a+b)"
      ],
      "metadata": {
        "id": "zota6CmtPk6U"
      },
      "execution_count": null,
      "outputs": []
    },
    {
      "cell_type": "code",
      "source": [
        "addNo(10,20)"
      ],
      "metadata": {
        "colab": {
          "base_uri": "https://localhost:8080/"
        },
        "id": "6ly_226yQllk",
        "outputId": "b3d39f08-f0d2-4c8b-a0be-375216473c22"
      },
      "execution_count": null,
      "outputs": [
        {
          "output_type": "stream",
          "name": "stdout",
          "text": [
            "30\n"
          ]
        }
      ]
    },
    {
      "cell_type": "code",
      "source": [
        "print(\"total value\", addNo(10,20))"
      ],
      "metadata": {
        "colab": {
          "base_uri": "https://localhost:8080/"
        },
        "id": "753ZHwArP5F_",
        "outputId": "7810cd1f-831a-444d-a2f9-ad38d19945fd"
      },
      "execution_count": null,
      "outputs": [
        {
          "output_type": "stream",
          "name": "stdout",
          "text": [
            "30\n",
            "total value None\n"
          ]
        }
      ]
    },
    {
      "cell_type": "code",
      "source": [
        "def addNo(a,b):\n",
        "  c=a+b"
      ],
      "metadata": {
        "id": "5BOiDDxSP6Yc"
      },
      "execution_count": null,
      "outputs": []
    },
    {
      "cell_type": "code",
      "source": [
        "addNo(10,20)"
      ],
      "metadata": {
        "id": "Z_ZsTUz3QwXW"
      },
      "execution_count": null,
      "outputs": []
    },
    {
      "cell_type": "code",
      "source": [
        "def addNo(a,b):\n",
        "  c=a+b\n",
        "  return c\n",
        "  print(\"hello\")"
      ],
      "metadata": {
        "id": "OphYl2BFQyPd"
      },
      "execution_count": null,
      "outputs": []
    },
    {
      "cell_type": "code",
      "source": [
        "addNo(10,20)"
      ],
      "metadata": {
        "colab": {
          "base_uri": "https://localhost:8080/"
        },
        "id": "adwLHDgPQ34X",
        "outputId": "bbe62420-b45f-4720-c058-40c1ad50a8de"
      },
      "execution_count": null,
      "outputs": [
        {
          "output_type": "execute_result",
          "data": {
            "text/plain": [
              "30"
            ]
          },
          "metadata": {},
          "execution_count": 74
        }
      ]
    },
    {
      "cell_type": "code",
      "source": [
        "print(\"total value\", addNo(10,20))"
      ],
      "metadata": {
        "colab": {
          "base_uri": "https://localhost:8080/"
        },
        "id": "HsWh0j_JQ5Ph",
        "outputId": "021bc0d2-633f-4ffb-a7e2-386b5b480adb"
      },
      "execution_count": null,
      "outputs": [
        {
          "output_type": "stream",
          "name": "stdout",
          "text": [
            "total value 30\n"
          ]
        }
      ]
    },
    {
      "cell_type": "code",
      "source": [
        "krishna=addNo(10,20)\n",
        "print(\"total value\", krishna)"
      ],
      "metadata": {
        "colab": {
          "base_uri": "https://localhost:8080/"
        },
        "id": "zb_54VsXQ8Uc",
        "outputId": "f226e23f-4781-4a15-82d6-2ba3872126e0"
      },
      "execution_count": null,
      "outputs": [
        {
          "output_type": "stream",
          "name": "stdout",
          "text": [
            "total value 30\n"
          ]
        }
      ]
    },
    {
      "cell_type": "code",
      "source": [
        "print(krishna)"
      ],
      "metadata": {
        "colab": {
          "base_uri": "https://localhost:8080/"
        },
        "id": "XfN1Q4nxRBcR",
        "outputId": "cb534a64-5747-4d79-e192-85be91f1c34d"
      },
      "execution_count": null,
      "outputs": [
        {
          "output_type": "stream",
          "name": "stdout",
          "text": [
            "30\n"
          ]
        }
      ]
    },
    {
      "cell_type": "code",
      "source": [
        "# lamda => code readable baanane ke liye\n",
        "# lamda function => kisi dusre function mei (high order function)\n",
        "\n",
        "# def func(parameter)\n",
        "#return\n",
        "\n",
        "# lambda parameter, par2 : expression ( expression return hota hai)"
      ],
      "metadata": {
        "id": "8W4mQ7kYRO1n"
      },
      "execution_count": null,
      "outputs": []
    },
    {
      "cell_type": "code",
      "source": [
        "def fun(x):\n",
        "  return x+15"
      ],
      "metadata": {
        "id": "0WDIojf4SheX"
      },
      "execution_count": null,
      "outputs": []
    },
    {
      "cell_type": "code",
      "source": [
        "fun(50)"
      ],
      "metadata": {
        "colab": {
          "base_uri": "https://localhost:8080/"
        },
        "id": "8zJPM03iSmlB",
        "outputId": "93956e41-d22f-4696-ba4f-d1890bb3c846"
      },
      "execution_count": null,
      "outputs": [
        {
          "output_type": "execute_result",
          "data": {
            "text/plain": [
              "65"
            ]
          },
          "metadata": {},
          "execution_count": 80
        }
      ]
    },
    {
      "cell_type": "code",
      "source": [
        "print(fun)"
      ],
      "metadata": {
        "colab": {
          "base_uri": "https://localhost:8080/"
        },
        "id": "xb2pAM-kS0it",
        "outputId": "7b5f4df5-bfbb-43ec-ee33-0b032e4da385"
      },
      "execution_count": null,
      "outputs": [
        {
          "output_type": "stream",
          "name": "stdout",
          "text": [
            "<function fun at 0x7f129a34bd80>\n"
          ]
        }
      ]
    },
    {
      "cell_type": "code",
      "source": [
        "lambda x: x+15"
      ],
      "metadata": {
        "colab": {
          "base_uri": "https://localhost:8080/"
        },
        "id": "ZROwzjl8SpIr",
        "outputId": "4f65c854-67a4-445c-f3c6-df1a9d3cbd14"
      },
      "execution_count": null,
      "outputs": [
        {
          "output_type": "execute_result",
          "data": {
            "text/plain": [
              "<function __main__.<lambda>(x)>"
            ]
          },
          "metadata": {},
          "execution_count": 81
        }
      ]
    },
    {
      "cell_type": "code",
      "source": [
        "(lambda x: x+15)(50)"
      ],
      "metadata": {
        "colab": {
          "base_uri": "https://localhost:8080/"
        },
        "id": "ub7NrbFpTCy9",
        "outputId": "cffde753-8e38-4c5e-c7e2-5f38206fb7a6"
      },
      "execution_count": null,
      "outputs": [
        {
          "output_type": "execute_result",
          "data": {
            "text/plain": [
              "65"
            ]
          },
          "metadata": {},
          "execution_count": 83
        }
      ]
    },
    {
      "cell_type": "code",
      "source": [
        "a=lambda x: x+15\n",
        "a(50)"
      ],
      "metadata": {
        "colab": {
          "base_uri": "https://localhost:8080/"
        },
        "id": "6HAFNt25Szrn",
        "outputId": "2b090f3f-1b23-4c9f-8376-cb85e5869e4c"
      },
      "execution_count": null,
      "outputs": [
        {
          "output_type": "execute_result",
          "data": {
            "text/plain": [
              "65"
            ]
          },
          "metadata": {},
          "execution_count": 84
        }
      ]
    },
    {
      "cell_type": "code",
      "source": [
        "def func(x):\n",
        "  return x.split()"
      ],
      "metadata": {
        "id": "wc3kfb62TI2u"
      },
      "execution_count": null,
      "outputs": []
    },
    {
      "cell_type": "code",
      "source": [
        "func(\"hey hello\")"
      ],
      "metadata": {
        "colab": {
          "base_uri": "https://localhost:8080/"
        },
        "id": "uwev1tXGTR9_",
        "outputId": "d056e46d-edd1-4104-d8b0-f1f3b7fcfc57"
      },
      "execution_count": null,
      "outputs": [
        {
          "output_type": "execute_result",
          "data": {
            "text/plain": [
              "['hey', 'hello']"
            ]
          },
          "metadata": {},
          "execution_count": 88
        }
      ]
    },
    {
      "cell_type": "code",
      "source": [
        "k=lambda x: x.split()\n",
        "k(\"hey hello\")"
      ],
      "metadata": {
        "colab": {
          "base_uri": "https://localhost:8080/"
        },
        "id": "uN3OuvDNTbVa",
        "outputId": "e5218aa2-6a02-450a-ae56-17239a298567"
      },
      "execution_count": null,
      "outputs": [
        {
          "output_type": "execute_result",
          "data": {
            "text/plain": [
              "['hey', 'hello']"
            ]
          },
          "metadata": {},
          "execution_count": 89
        }
      ]
    },
    {
      "cell_type": "code",
      "source": [
        "mydicy={\"name\":lambda x: x.split()}"
      ],
      "metadata": {
        "id": "LZxhOTFXVMMj"
      },
      "execution_count": null,
      "outputs": []
    },
    {
      "cell_type": "code",
      "source": [
        "mydicy[\"name\"](\"krishna kumawat\")"
      ],
      "metadata": {
        "colab": {
          "base_uri": "https://localhost:8080/"
        },
        "id": "J41epHyOVdGM",
        "outputId": "d2d73be3-02b7-40e3-b642-73ac8d963db1"
      },
      "execution_count": null,
      "outputs": [
        {
          "output_type": "execute_result",
          "data": {
            "text/plain": [
              "['krishna', 'kumawat']"
            ]
          },
          "metadata": {},
          "execution_count": 103
        }
      ]
    },
    {
      "cell_type": "code",
      "source": [],
      "metadata": {
        "id": "qDqOUEoQVkYn"
      },
      "execution_count": null,
      "outputs": []
    }
  ]
}